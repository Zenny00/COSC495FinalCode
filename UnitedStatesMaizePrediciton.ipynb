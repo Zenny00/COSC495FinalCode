{
 "cells": [
  {
   "cell_type": "code",
   "execution_count": 1,
   "id": "a9a8a882",
   "metadata": {},
   "outputs": [],
   "source": [
    "#Name: Joshua Comfort\n",
    "#Date: 5-8-2022\n",
    "\n",
    "#In our outline each country is plotted using its yield (measured in kg/km)\n",
    "#graphed against its NUE (measured as a percentage) with land used farming for each crop (measured in hectares) \n",
    "#corresponding to the size of the bubbles. Each crop can be viewed with its NUE for each country, \n",
    "#the amount grown, and the amount of land used in the process.\n",
    "import scipy.io\n",
    "from matplotlib import pyplot as plt\n",
    "import pandas as pd\n",
    "import seaborn as sb\n",
    "import matplotlib.animation as ani\n",
    "from matplotlib.animation import FuncAnimation\n",
    "iFarmData = scipy.io.loadmat('iFarmData(2015)_1_28_2019.mat')\n",
    "from IPython import display\n",
    "import numpy as np"
   ]
  },
  {
   "cell_type": "code",
   "execution_count": 2,
   "id": "fe0113a1",
   "metadata": {},
   "outputs": [
    {
     "name": "stdout",
     "output_type": "stream",
     "text": [
      "Please enter a name of a country: United States of America\n",
      "Please enter the name of a crop: Maize\n"
     ]
    }
   ],
   "source": [
    "#Get input from user\n",
    "country = input(\"Please enter a name of a country: \")\n",
    "crop = input(\"Please enter the name of a crop: \")"
   ]
  },
  {
   "cell_type": "code",
   "execution_count": 3,
   "id": "34e462e1",
   "metadata": {},
   "outputs": [
    {
     "data": {
      "text/plain": [
       "dict_keys(['__header__', '__version__', '__globals__', 'AreaH_FAO', 'Co_ID_group_X', 'FAOSTAT_CoCODE_FAO', 'FAOSTAT_CoName_FAO', 'FAOSTAT_CrCODE_FAO', 'FAOSTAT_CrName_FAO', 'GDPPCAP_WB', 'NC_Bou', 'NUE_3d', 'Ndep_kgkm', 'Nexc_kgkm', 'Nfer_kgkm', 'NfixR_kgkm_HDF', 'Nfix_kgkm', 'Nman_kgkm', 'Nyield_kgkm', 'Popu_FAO', 'Popu_rural_FAO', 'Pr_Crop_US', 'Yield_FAO', 'Yr', 'cr_group_com', 'netImTrade', 'netImTradeVal'])"
      ]
     },
     "execution_count": 3,
     "metadata": {},
     "output_type": "execute_result"
    }
   ],
   "source": [
    "#Display keys\n",
    "iFarmData.keys()"
   ]
  },
  {
   "cell_type": "code",
   "execution_count": 4,
   "id": "af7c12ad",
   "metadata": {},
   "outputs": [
    {
     "name": "stdout",
     "output_type": "stream",
     "text": [
      "           0\n",
      "0   0.770508\n",
      "1   0.703315\n",
      "2   0.704526\n",
      "3   0.615985\n",
      "4   0.655861\n",
      "..       ...\n",
      "85  0.427193\n",
      "86  0.422964\n",
      "87  0.418776\n",
      "88  0.414631\n",
      "89  0.410526\n",
      "\n",
      "[90 rows x 1 columns]\n",
      "0.581531457233392\n",
      "345484896813.00006\n",
      "326783.10000000003\n",
      "0.0\n"
     ]
    }
   ],
   "source": [
    "Years = pd.DataFrame(iFarmData['Yr']).T\n",
    "Countries = pd.DataFrame(iFarmData['FAOSTAT_CoName_FAO'])\n",
    "CropNames = pd.DataFrame(iFarmData['FAOSTAT_CrName_FAO'])\n",
    "#while count < int(numCountries):\n",
    "#    countryList.append(input(\"Please input the name of a country: \"))\n",
    "#    count = count + 1\n",
    "\n",
    "userCountry = Countries[Countries[0] == country].index[0]\n",
    "userCountry2 = Countries[Countries[0] == 'United States of America'].index[0]\n",
    "userCrop = CropNames[CropNames[0] == crop].index[0]\n",
    "%matplotlib qt\n",
    "i = 0\n",
    "Area = iFarmData['AreaH_FAO']\n",
    "Yield = iFarmData['Yield_FAO']\n",
    "NUE = iFarmData['NUE_3d']\n",
    "RICE_NUE = []\n",
    "RICE_YIELD = []\n",
    "RICE_AREA = []\n",
    "\n",
    "while i < 55:\n",
    "    RICE_NUE.append(NUE[userCountry][userCrop][i])\n",
    "    RICE_YIELD.append((Yield[userCountry][userCrop][i] * Area[userCountry][userCrop][i]))\n",
    "    RICE_AREA.append(Area[userCountry][userCrop][i])\n",
    "    i = i + 1\n",
    "\n",
    "#Values for calcualtion\n",
    "    \n",
    "#i = 55\n",
    "#while i < 90:\n",
    "#    RICE_NUE.append(RICE_NUE[i-1] - (np.random.ranf() % 0.020) + RICE_NUE[i-1] * 0.04)\n",
    "#    RICE_YIELD.append(RICE_YIELD[i-1] + (3935 * ((np.random.ranf() + 0.7) % 1)))\n",
    "#    RICE_AREA.append(RICE_AREA[i-1] + (1967 * ((np.random.ranf() + 0.7) % 1)))\n",
    "#    i = i + 1\n",
    "\n",
    "#Yield per 1% NUE 14,372\n",
    "#Area per 1% NUE 9,304\n",
    "\n",
    "#10%\n",
    "#RICE_NUE.append(RICE_NUE[i-1] + ((RICE_NUE[i-1] * 0.025) * np.random.ranf() % 0.1) - (RICE_NUE[i-1] * 0.0011)) \n",
    "#RICE_YIELD.append(RICE_YIELD[i-1] + (1800 * ((np.random.ranf() % 1)) + 0.08))\n",
    "#RICE_AREA.append(RICE_AREA[i-1] + (1100 * ((np.random.ranf() % 1)) + 0.08))\n",
    "\n",
    "#20%\n",
    "#RICE_NUE.append(RICE_NUE[i-1] + ((RICE_NUE[i-1] * 0.03) * np.random.ranf() % 0.1) - (RICE_NUE[i-1] * 0.0022)) \n",
    "#RICE_YIELD.append(RICE_YIELD[i-1] + (3800 * ((np.random.ranf() % 1)) + 0.08))\n",
    "#RICE_AREA.append(RICE_AREA[i-1] + (2200 * ((np.random.ranf() % 1)) + 0.08))\n",
    "#67439021747\n",
    "#1926829192\n",
    "#589290\n",
    "#5482847296 per nue\n",
    "\n",
    "\n",
    "#5245295301 per nue\n",
    "#599462320 per year \n",
    "\n",
    "#688641\n",
    "\n",
    "\n",
    "#30% 1926829192\n",
    "\n",
    "#26738093070\n",
    "\n",
    "#763945516 per year\n",
    "#1273242527 per nue\n",
    "#322890\n",
    "\n",
    "\n",
    "#55157619 per nue\n",
    "#66718656 per year\n",
    "#133870\n",
    "\n",
    "\n",
    "#7,033,135 per year\n",
    "#22,792,568 per nue\n",
    "#385,045 per area\n",
    "\n",
    "\n",
    "i = 55\n",
    "while i < 90:\n",
    "    RICE_NUE.append(RICE_NUE[i-1] + ((RICE_NUE[i-1] * 0.00) * np.random.ranf() % 0.1) - (RICE_NUE[i-1] * 0.0099)) \n",
    "    RICE_YIELD.append(RICE_YIELD[i-1] + ((7033135*4.5) * ((np.random.ranf() % 1)) + 0.09))\n",
    "    RICE_AREA.append(RICE_AREA[i-1] + ((170) * ((np.random.ranf() % 1)) + 0.09))\n",
    "    #RICE_NUE.append(RICE_NUE[i-1] - (((np.random.ranf() % 0.048))) + (RICE_NUE[i-1] * 0.07))\n",
    "    #RICE_YIELD.append(RICE_YIELD[i-1] + (7200 * ((np.random.ranf() + 0.7) % 1)))\n",
    "    #RICE_AREA.append(RICE_AREA[i-1] + (16800 * ((np.random.ranf() + 0.7) % 1)))\n",
    "    i = i + 1\n",
    "    \n",
    "NUERice = pd.DataFrame(RICE_NUE)\n",
    "YieldRice = pd.DataFrame(RICE_YIELD)\n",
    "AreaRice = pd.DataFrame(RICE_AREA)\n",
    "\n",
    "print(NUERice)\n",
    "print(NUERice[0][54])\n",
    "print(YieldRice[0][54])\n",
    "print(AreaRice[0][54])\n",
    "print(iFarmData['netImTrade'][userCrop][29][userCountry][userCountry2])"
   ]
  },
  {
   "cell_type": "code",
   "execution_count": 262,
   "id": "c8067fcf",
   "metadata": {},
   "outputs": [
    {
     "name": "stderr",
     "output_type": "stream",
     "text": [
      "MovieWriter ffmpeg unavailable; using Pillow instead.\n"
     ]
    }
   ],
   "source": [
    "#Create graph\n",
    "xlimit = max(RICE_YIELD) + max(RICE_YIELD)*0.1\n",
    "areaMax = max(RICE_AREA)\n",
    "\n",
    "fig = plt.figure()\n",
    "fig.set_size_inches(20, 8)\n",
    "plt.xlim(0, xlimit)\n",
    "plt.ylim(0, 1)\n",
    "plt.autoscale(False)\n",
    "\n",
    "x,y,s, x1, y1 = [], [], [], [], []\n",
    "x1.append(0)\n",
    "x1.append(max(RICE_YIELD) + max(RICE_YIELD)*0.1)\n",
    "y1.append(0.7)\n",
    "y1.append(0.7)\n",
    "\n",
    "ColorList = []\n",
    "color = np.random.rand(3,)\n",
    "legend = [\"Target NUE\", country + \", \" + crop]\n",
    "\n",
    "plt.plot(x1, y1, 'k:')\n",
    "plt.text(1000, 0.71, \"Target NUE\")\n",
    "\n",
    "plt.text(YieldRice[0][0], NUERice[0][0] + NUERice[0][0] * 0.05, \"1960\")\n",
    "plt.text(YieldRice[0][54], NUERice[0][54] + NUERice[0][54] * 0.07, \"2015\\n Increase Production by 90%\")\n",
    "plt.text(YieldRice[0][89], NUERice[0][89] + NUERice[0][89] * 0.05, \"2050\")\n",
    "\n",
    "#plt.text(Yield[userCountry][userCrop][0], NUE[userCountry][userCrop][0] + NUE[userCountry][userCrop][0] * 0.05, \"1960\")\n",
    "#plt.text(Yield[userCountry][userCrop][54], NUE[userCountry][userCrop][54] + NUE[userCountry][userCrop][54] * 0.05, \"2015\")\n",
    "#plt.text(Yield[userCountry][userCrop1][0], NUE[userCountry][userCrop1][0] + NUE[userCountry][userCrop1][0] * 0.05, \"1960\")\n",
    "#plt.text(Yield[userCountry][userCrop1][54], NUE[userCountry][userCrop1][54] + NUE[userCountry][userCrop1][54] * 0.05, \"2015\")\n",
    "\n",
    "#i = 0\n",
    "#while i <= 54:\n",
    "#    dataX.append(Yield[userCountry][userCrop][i])\n",
    "#    dataY.append(NUE[userCountry][userCrop][i])\n",
    "#    dataX2.append(Yield[userCountry][userCrop1][i])\n",
    "#    dataY2.append(NUE[userCountry][userCrop1][i])\n",
    "#    i = i + 9\n",
    "    \n",
    "#ax = fig.add_subplot(1,1,1)\n",
    "#plotlim = plt.xlim() + plt.ylim()  \n",
    "#ax.imshow([[0,0],[1,1]], cmap=plt.cm.Greens, interpolation='bicubic', extent=plotlim)  \n",
    "#plt.draw()  \n",
    "\n",
    "def animate(frame):\n",
    "    x.append(YieldRice[0][frame])\n",
    "    y.append(NUERice[0][frame])\n",
    "    s.append(AreaRice[0][frame]/(areaMax)*250)\n",
    "    plt.ticklabel_format(useOffset=False, style='plain')\n",
    "    plt.title(\"Crop Yield, Nitrogen Use Efficiency, Land Used for Crop Growth (Shown by Bubble Size) | From 1960-2050 (Projection)\")\n",
    "    plt.xlabel(\"Crop Yield in thousands (1000) of kg\")\n",
    "    plt.ylabel(\"Nitrogen Use Efficiency (NUE)\")\n",
    "    plt.scatter(x, y, s, alpha=0.10, c='r')\n",
    "    plt.legend(legend)\n",
    "\n",
    "anim = FuncAnimation(fig, animate, frames=90, interval=200)\n",
    "#plt.plot(dataX, dataY, c='tab:green')\n",
    "#plt.plot(dataX2, dataY2, c='yellow')\n",
    "#anim.save(r'C:\\Users\\joshu\\Desktop\\AfterPresentationVisuals\\JapanIncrease90.gif', dpi=220)"
   ]
  },
  {
   "cell_type": "code",
   "execution_count": null,
   "id": "82cc69bc",
   "metadata": {},
   "outputs": [],
   "source": []
  },
  {
   "cell_type": "code",
   "execution_count": null,
   "id": "44eeea84",
   "metadata": {},
   "outputs": [],
   "source": []
  }
 ],
 "metadata": {
  "kernelspec": {
   "display_name": "Python 3 (ipykernel)",
   "language": "python",
   "name": "python3"
  },
  "language_info": {
   "codemirror_mode": {
    "name": "ipython",
    "version": 3
   },
   "file_extension": ".py",
   "mimetype": "text/x-python",
   "name": "python",
   "nbconvert_exporter": "python",
   "pygments_lexer": "ipython3",
   "version": "3.9.7"
  }
 },
 "nbformat": 4,
 "nbformat_minor": 5
}
