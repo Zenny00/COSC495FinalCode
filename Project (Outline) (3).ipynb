{
 "cells": [
  {
   "cell_type": "code",
   "execution_count": 21,
   "id": "131087e6-f028-47de-8eb2-7167966ed3d2",
   "metadata": {},
   "outputs": [],
   "source": [
    "#Name: Joshua Comfort\n",
    "#Date: 4-1-2022\n",
    "\n",
    "#In our outline each country is plotted using its yield (measured in kg/km)\n",
    "#graphed against its NUE (measured as a percentage) with land used farming for each crop (measured in hectares) \n",
    "#corresponding to the size of the bubbles. Each crop can be viewed with its NUE for each country, \n",
    "#the amount grown, and the amount of land used in the process.\n",
    "import scipy.io\n",
    "from matplotlib import pyplot as plt\n",
    "import pandas as pd\n",
    "import seaborn as sb\n",
    "import matplotlib.animation as ani\n",
    "from matplotlib.animation import FuncAnimation\n",
    "iFarmData = scipy.io.loadmat('iFarmData(2015)_1_28_2019.mat')\n",
    "from IPython import display\n",
    "import numpy as np"
   ]
  },
  {
   "cell_type": "code",
   "execution_count": 14,
   "id": "3ef1978d-4097-41a3-80d6-ac6bd25a4e8b",
   "metadata": {},
   "outputs": [
    {
     "name": "stdout",
     "output_type": "stream",
     "text": [
      "Please enter a name of a country: Colombia\n",
      "Please enter the name of a crop: Coffee; green\n"
     ]
    }
   ],
   "source": [
    "#Get user input\n",
    "country = input(\"Please enter a name of a country: \")\n",
    "crop = input(\"Please enter the name of a crop: \")"
   ]
  },
  {
   "cell_type": "code",
   "execution_count": 16,
   "id": "adb350c1-c6bd-4cf4-8785-0a8474d6507e",
   "metadata": {},
   "outputs": [],
   "source": [
    "Years = pd.DataFrame(iFarmData['Yr']).T\n",
    "Countries = pd.DataFrame(iFarmData['FAOSTAT_CoName_FAO'])\n",
    "CropNames = pd.DataFrame(iFarmData['FAOSTAT_CrName_FAO'])\n",
    "userCountry = Countries[Countries[0] == country].index[0]\n",
    "userCrop = CropNames[CropNames[0] == crop].index[0]\n",
    "%matplotlib qt"
   ]
  },
  {
   "cell_type": "code",
   "execution_count": 32,
   "id": "8065a380-cf29-470e-878d-43d721bd4904",
   "metadata": {},
   "outputs": [],
   "source": [
    "#Create graph\n",
    "fig = plt.figure()\n",
    "fig.set_size_inches(20, 8)\n",
    "xl = iFarmData['Yield_FAO'][userCountry][userCrop].max() + 5000\n",
    "areaMax = iFarmData['AreaH_FAO'][userCountry][userCrop].max()\n",
    "plt.xlim(0, xl)\n",
    "plt.ylim(0, 1)\n",
    "plt.autoscale(False)\n",
    "Area = iFarmData['AreaH_FAO'][userCountry]\n",
    "Yield = iFarmData['Yield_FAO'][userCountry]\n",
    "NUE = iFarmData['NUE_3d'][userCountry]\n",
    "x,y,s = [], [], []\n",
    "color = np.random.rand(3,)\n",
    "#leg = Countries[Countries[0] == country].astype(str) + \", \" + CropNames[CropNames[0] == crop].astype(str)\n",
    "#axes = fig.add_subplot(1,1,1)\n",
    "#lines = plt.plot([])\n",
    "#line = lines[0]\n",
    "#Cn = [leg]\n",
    "#fig(figsize=(8, 6), dpi=300)\n",
    "\n",
    "def animate(frame):\n",
    "    x.append(Yield[userCrop][frame])\n",
    "    y.append(NUE[userCrop][frame])\n",
    "    s.append(Area[userCrop][frame]/(areaMax)*500)\n",
    "    plt.ticklabel_format(useOffset=False, style='plain')\n",
    "    #plt.legend(Cn, loc='center left', bbox_to_anchor=(1, 0.6))\n",
    "    plt.title(\"Crop Yield, Nitrogen Use Efficiency, Land Used for Crop Growth (Shown by Bubble Size) | From 1960-2015\")\n",
    "    plt.xlabel(\"Crop Yield in Tonnes\")\n",
    "    plt.ylabel(\"Nitrogen Use Efficiency (NUE)\")\n",
    "    plt.scatter(x, y, s, alpha=0.25, c=[color])\n",
    "\n",
    "anim = FuncAnimation(fig, animate, frames=200, interval=120)\n",
    "#anim.save(r'C:\\Users\\joshu\\Desktop\\Top3IndiaAlt.gif', dpi=275)"
   ]
  },
  {
   "cell_type": "code",
   "execution_count": null,
   "id": "580e2fd9-dbf6-4b23-856f-de17a4cff9e7",
   "metadata": {},
   "outputs": [],
   "source": []
  },
  {
   "cell_type": "code",
   "execution_count": null,
   "id": "3bfffe46-52d2-465c-8fec-763c753add7d",
   "metadata": {},
   "outputs": [],
   "source": []
  }
 ],
 "metadata": {
  "kernelspec": {
   "display_name": "Python 3 (ipykernel)",
   "language": "python",
   "name": "python3"
  },
  "language_info": {
   "codemirror_mode": {
    "name": "ipython",
    "version": 3
   },
   "file_extension": ".py",
   "mimetype": "text/x-python",
   "name": "python",
   "nbconvert_exporter": "python",
   "pygments_lexer": "ipython3",
   "version": "3.9.7"
  }
 },
 "nbformat": 4,
 "nbformat_minor": 5
}
