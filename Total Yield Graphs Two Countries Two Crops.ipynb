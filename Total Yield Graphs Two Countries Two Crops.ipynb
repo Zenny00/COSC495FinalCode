{
 "cells": [
  {
   "cell_type": "code",
   "execution_count": 7,
   "id": "131087e6-f028-47de-8eb2-7167966ed3d2",
   "metadata": {},
   "outputs": [],
   "source": [
    "#Name: Joshua Comfort\n",
    "#Date: 5-7-2022\n",
    "\n",
    "#In our outline each country is plotted using its yield (measured in kg/km)\n",
    "#graphed against its NUE (measured as a percentage) with land used farming for each crop (measured in hectares) \n",
    "#corresponding to the size of the bubbles. Each crop can be viewed with its NUE for each country, \n",
    "#the amount grown, and the amount of land used in the process.\n",
    "import scipy.io\n",
    "from matplotlib import pyplot as plt\n",
    "import pandas as pd\n",
    "import seaborn as sb\n",
    "import matplotlib.animation as ani\n",
    "from matplotlib.animation import FuncAnimation\n",
    "iFarmData = scipy.io.loadmat('iFarmData(2015)_1_28_2019.mat')\n",
    "from IPython import display\n",
    "import numpy as np"
   ]
  },
  {
   "cell_type": "code",
   "execution_count": 45,
   "id": "3ef1978d-4097-41a3-80d6-ac6bd25a4e8b",
   "metadata": {},
   "outputs": [
    {
     "name": "stdout",
     "output_type": "stream",
     "text": [
      "Please enter a name of a country: China\n",
      "Please enter the name a second country: Japan\n",
      "Please enter the name of a crop: Rice; paddy\n",
      "Please enter the name of a second crop: Rice; paddy\n"
     ]
    }
   ],
   "source": [
    "#Get input from user\n",
    "country = input(\"Please enter a name of a country: \")\n",
    "country2 = input(\"Please enter the name a second country: \")\n",
    "crop = input(\"Please enter the name of a crop: \")\n",
    "crop2 = input(\"Please enter the name of a second crop: \")"
   ]
  },
  {
   "cell_type": "code",
   "execution_count": 46,
   "id": "adb350c1-c6bd-4cf4-8785-0a8474d6507e",
   "metadata": {},
   "outputs": [],
   "source": [
    "Years = pd.DataFrame(iFarmData['Yr']).T\n",
    "Countries = pd.DataFrame(iFarmData['FAOSTAT_CoName_FAO'])\n",
    "CropNames = pd.DataFrame(iFarmData['FAOSTAT_CrName_FAO'])\n",
    "#while count < int(numCountries):\n",
    "#    countryList.append(input(\"Please input the name of a country: \"))\n",
    "#    count = count + 1\n",
    "\n",
    "userCountry = Countries[Countries[0] == country].index[0]\n",
    "userCountry2 = Countries[Countries[0] == country2].index[0]\n",
    "userCrop = CropNames[CropNames[0] == crop].index[0]\n",
    "userCrop2 = CropNames[CropNames[0] == crop2].index[0]\n",
    "%matplotlib qt"
   ]
  },
  {
   "cell_type": "code",
   "execution_count": 51,
   "id": "8065a380-cf29-470e-878d-43d721bd4904",
   "metadata": {},
   "outputs": [
    {
     "name": "stderr",
     "output_type": "stream",
     "text": [
      "MovieWriter ffmpeg unavailable; using Pillow instead.\n"
     ]
    },
    {
     "ename": "IndexError",
     "evalue": "index 55 is out of bounds for axis 0 with size 55",
     "output_type": "error",
     "traceback": [
      "\u001b[1;31m---------------------------------------------------------------------------\u001b[0m",
      "\u001b[1;31mIndexError\u001b[0m                                Traceback (most recent call last)",
      "\u001b[1;32m~\\AppData\\Local\\Temp/ipykernel_13488/606280927.py\u001b[0m in \u001b[0;36m<module>\u001b[1;34m\u001b[0m\n\u001b[0;32m     64\u001b[0m \u001b[0mplt\u001b[0m\u001b[1;33m.\u001b[0m\u001b[0mplot\u001b[0m\u001b[1;33m(\u001b[0m\u001b[0mdataX\u001b[0m\u001b[1;33m,\u001b[0m \u001b[0mdataY\u001b[0m\u001b[1;33m,\u001b[0m \u001b[0mc\u001b[0m\u001b[1;33m=\u001b[0m\u001b[1;34m'r'\u001b[0m\u001b[1;33m)\u001b[0m\u001b[1;33m\u001b[0m\u001b[1;33m\u001b[0m\u001b[0m\n\u001b[0;32m     65\u001b[0m \u001b[0mplt\u001b[0m\u001b[1;33m.\u001b[0m\u001b[0mplot\u001b[0m\u001b[1;33m(\u001b[0m\u001b[0mdataX2\u001b[0m\u001b[1;33m,\u001b[0m \u001b[0mdataY2\u001b[0m\u001b[1;33m,\u001b[0m \u001b[0mc\u001b[0m\u001b[1;33m=\u001b[0m\u001b[1;34m'b'\u001b[0m\u001b[1;33m)\u001b[0m\u001b[1;33m\u001b[0m\u001b[1;33m\u001b[0m\u001b[0m\n\u001b[1;32m---> 66\u001b[1;33m \u001b[0manim\u001b[0m\u001b[1;33m.\u001b[0m\u001b[0msave\u001b[0m\u001b[1;33m(\u001b[0m\u001b[1;34mr'C:\\Users\\joshu\\Desktop\\AfterPresentationVisuals\\ChinaRiceJapanRice.gif'\u001b[0m\u001b[1;33m,\u001b[0m \u001b[0mdpi\u001b[0m\u001b[1;33m=\u001b[0m\u001b[1;36m220\u001b[0m\u001b[1;33m)\u001b[0m\u001b[1;33m\u001b[0m\u001b[1;33m\u001b[0m\u001b[0m\n\u001b[0m",
      "\u001b[1;32m~\\anaconda3\\lib\\site-packages\\matplotlib\\animation.py\u001b[0m in \u001b[0;36msave\u001b[1;34m(self, filename, writer, fps, dpi, codec, bitrate, extra_args, metadata, extra_anim, savefig_kwargs, progress_callback)\u001b[0m\n\u001b[0;32m   1171\u001b[0m                 \u001b[1;32mfor\u001b[0m \u001b[0manim\u001b[0m\u001b[1;33m,\u001b[0m \u001b[0md\u001b[0m \u001b[1;32min\u001b[0m \u001b[0mzip\u001b[0m\u001b[1;33m(\u001b[0m\u001b[0mall_anim\u001b[0m\u001b[1;33m,\u001b[0m \u001b[0mdata\u001b[0m\u001b[1;33m)\u001b[0m\u001b[1;33m:\u001b[0m\u001b[1;33m\u001b[0m\u001b[1;33m\u001b[0m\u001b[0m\n\u001b[0;32m   1172\u001b[0m                     \u001b[1;31m# TODO: See if turning off blit is really necessary\u001b[0m\u001b[1;33m\u001b[0m\u001b[1;33m\u001b[0m\u001b[0m\n\u001b[1;32m-> 1173\u001b[1;33m                     \u001b[0manim\u001b[0m\u001b[1;33m.\u001b[0m\u001b[0m_draw_next_frame\u001b[0m\u001b[1;33m(\u001b[0m\u001b[0md\u001b[0m\u001b[1;33m,\u001b[0m \u001b[0mblit\u001b[0m\u001b[1;33m=\u001b[0m\u001b[1;32mFalse\u001b[0m\u001b[1;33m)\u001b[0m\u001b[1;33m\u001b[0m\u001b[1;33m\u001b[0m\u001b[0m\n\u001b[0m\u001b[0;32m   1174\u001b[0m                     \u001b[1;32mif\u001b[0m \u001b[0mprogress_callback\u001b[0m \u001b[1;32mis\u001b[0m \u001b[1;32mnot\u001b[0m \u001b[1;32mNone\u001b[0m\u001b[1;33m:\u001b[0m\u001b[1;33m\u001b[0m\u001b[1;33m\u001b[0m\u001b[0m\n\u001b[0;32m   1175\u001b[0m                         \u001b[0mprogress_callback\u001b[0m\u001b[1;33m(\u001b[0m\u001b[0mframe_number\u001b[0m\u001b[1;33m,\u001b[0m \u001b[0mtotal_frames\u001b[0m\u001b[1;33m)\u001b[0m\u001b[1;33m\u001b[0m\u001b[1;33m\u001b[0m\u001b[0m\n",
      "\u001b[1;32m~\\anaconda3\\lib\\site-packages\\matplotlib\\animation.py\u001b[0m in \u001b[0;36m_draw_next_frame\u001b[1;34m(self, framedata, blit)\u001b[0m\n\u001b[0;32m   1206\u001b[0m         \u001b[1;31m# post- draw, as well as the drawing of the frame itself.\u001b[0m\u001b[1;33m\u001b[0m\u001b[1;33m\u001b[0m\u001b[0m\n\u001b[0;32m   1207\u001b[0m         \u001b[0mself\u001b[0m\u001b[1;33m.\u001b[0m\u001b[0m_pre_draw\u001b[0m\u001b[1;33m(\u001b[0m\u001b[0mframedata\u001b[0m\u001b[1;33m,\u001b[0m \u001b[0mblit\u001b[0m\u001b[1;33m)\u001b[0m\u001b[1;33m\u001b[0m\u001b[1;33m\u001b[0m\u001b[0m\n\u001b[1;32m-> 1208\u001b[1;33m         \u001b[0mself\u001b[0m\u001b[1;33m.\u001b[0m\u001b[0m_draw_frame\u001b[0m\u001b[1;33m(\u001b[0m\u001b[0mframedata\u001b[0m\u001b[1;33m)\u001b[0m\u001b[1;33m\u001b[0m\u001b[1;33m\u001b[0m\u001b[0m\n\u001b[0m\u001b[0;32m   1209\u001b[0m         \u001b[0mself\u001b[0m\u001b[1;33m.\u001b[0m\u001b[0m_post_draw\u001b[0m\u001b[1;33m(\u001b[0m\u001b[0mframedata\u001b[0m\u001b[1;33m,\u001b[0m \u001b[0mblit\u001b[0m\u001b[1;33m)\u001b[0m\u001b[1;33m\u001b[0m\u001b[1;33m\u001b[0m\u001b[0m\n\u001b[0;32m   1210\u001b[0m \u001b[1;33m\u001b[0m\u001b[0m\n",
      "\u001b[1;32m~\\anaconda3\\lib\\site-packages\\matplotlib\\animation.py\u001b[0m in \u001b[0;36m_draw_frame\u001b[1;34m(self, framedata)\u001b[0m\n\u001b[0;32m   1774\u001b[0m         \u001b[1;31m# Call the func with framedata and args. If blitting is desired,\u001b[0m\u001b[1;33m\u001b[0m\u001b[1;33m\u001b[0m\u001b[0m\n\u001b[0;32m   1775\u001b[0m         \u001b[1;31m# func needs to return a sequence of any artists that were modified.\u001b[0m\u001b[1;33m\u001b[0m\u001b[1;33m\u001b[0m\u001b[0m\n\u001b[1;32m-> 1776\u001b[1;33m         \u001b[0mself\u001b[0m\u001b[1;33m.\u001b[0m\u001b[0m_drawn_artists\u001b[0m \u001b[1;33m=\u001b[0m \u001b[0mself\u001b[0m\u001b[1;33m.\u001b[0m\u001b[0m_func\u001b[0m\u001b[1;33m(\u001b[0m\u001b[0mframedata\u001b[0m\u001b[1;33m,\u001b[0m \u001b[1;33m*\u001b[0m\u001b[0mself\u001b[0m\u001b[1;33m.\u001b[0m\u001b[0m_args\u001b[0m\u001b[1;33m)\u001b[0m\u001b[1;33m\u001b[0m\u001b[1;33m\u001b[0m\u001b[0m\n\u001b[0m\u001b[0;32m   1777\u001b[0m \u001b[1;33m\u001b[0m\u001b[0m\n\u001b[0;32m   1778\u001b[0m         \u001b[1;32mif\u001b[0m \u001b[0mself\u001b[0m\u001b[1;33m.\u001b[0m\u001b[0m_blit\u001b[0m\u001b[1;33m:\u001b[0m\u001b[1;33m\u001b[0m\u001b[1;33m\u001b[0m\u001b[0m\n",
      "\u001b[1;32m~\\AppData\\Local\\Temp/ipykernel_13488/606280927.py\u001b[0m in \u001b[0;36manimate\u001b[1;34m(frame)\u001b[0m\n\u001b[0;32m     47\u001b[0m \u001b[1;33m\u001b[0m\u001b[0m\n\u001b[0;32m     48\u001b[0m \u001b[1;32mdef\u001b[0m \u001b[0manimate\u001b[0m\u001b[1;33m(\u001b[0m\u001b[0mframe\u001b[0m\u001b[1;33m)\u001b[0m\u001b[1;33m:\u001b[0m\u001b[1;33m\u001b[0m\u001b[1;33m\u001b[0m\u001b[0m\n\u001b[1;32m---> 49\u001b[1;33m     \u001b[0mx\u001b[0m\u001b[1;33m.\u001b[0m\u001b[0mappend\u001b[0m\u001b[1;33m(\u001b[0m\u001b[1;33m(\u001b[0m\u001b[0mYield\u001b[0m\u001b[1;33m[\u001b[0m\u001b[0muserCountry\u001b[0m\u001b[1;33m]\u001b[0m\u001b[1;33m[\u001b[0m\u001b[0muserCrop\u001b[0m\u001b[1;33m]\u001b[0m\u001b[1;33m[\u001b[0m\u001b[0mframe\u001b[0m\u001b[1;33m]\u001b[0m \u001b[1;33m*\u001b[0m \u001b[0mArea\u001b[0m\u001b[1;33m[\u001b[0m\u001b[0muserCountry\u001b[0m\u001b[1;33m]\u001b[0m\u001b[1;33m[\u001b[0m\u001b[0muserCrop\u001b[0m\u001b[1;33m]\u001b[0m\u001b[1;33m[\u001b[0m\u001b[0mframe\u001b[0m\u001b[1;33m]\u001b[0m\u001b[1;33m)\u001b[0m\u001b[1;33m/\u001b[0m\u001b[1;36m1000\u001b[0m\u001b[1;33m)\u001b[0m\u001b[1;33m\u001b[0m\u001b[1;33m\u001b[0m\u001b[0m\n\u001b[0m\u001b[0;32m     50\u001b[0m     \u001b[0my\u001b[0m\u001b[1;33m.\u001b[0m\u001b[0mappend\u001b[0m\u001b[1;33m(\u001b[0m\u001b[0mNUE\u001b[0m\u001b[1;33m[\u001b[0m\u001b[0muserCountry\u001b[0m\u001b[1;33m]\u001b[0m\u001b[1;33m[\u001b[0m\u001b[0muserCrop\u001b[0m\u001b[1;33m]\u001b[0m\u001b[1;33m[\u001b[0m\u001b[0mframe\u001b[0m\u001b[1;33m]\u001b[0m\u001b[1;33m)\u001b[0m\u001b[1;33m\u001b[0m\u001b[1;33m\u001b[0m\u001b[0m\n\u001b[0;32m     51\u001b[0m     \u001b[0ms\u001b[0m\u001b[1;33m.\u001b[0m\u001b[0mappend\u001b[0m\u001b[1;33m(\u001b[0m\u001b[0mArea\u001b[0m\u001b[1;33m[\u001b[0m\u001b[0muserCountry\u001b[0m\u001b[1;33m]\u001b[0m\u001b[1;33m[\u001b[0m\u001b[0muserCrop\u001b[0m\u001b[1;33m]\u001b[0m\u001b[1;33m[\u001b[0m\u001b[0mframe\u001b[0m\u001b[1;33m]\u001b[0m\u001b[1;33m/\u001b[0m\u001b[1;33m(\u001b[0m\u001b[0mareaMax\u001b[0m\u001b[1;33m)\u001b[0m\u001b[1;33m*\u001b[0m\u001b[1;36m250\u001b[0m\u001b[1;33m)\u001b[0m\u001b[1;33m\u001b[0m\u001b[1;33m\u001b[0m\u001b[0m\n",
      "\u001b[1;31mIndexError\u001b[0m: index 55 is out of bounds for axis 0 with size 55"
     ]
    }
   ],
   "source": [
    "#Create and display graph\n",
    "xlimit = max(((iFarmData['Yield_FAO'][userCountry][userCrop].max() * iFarmData['AreaH_FAO'][userCountry][userCrop].max())/1000 + ((iFarmData['Yield_FAO'][userCountry][userCrop].max()*0.1) * (iFarmData['AreaH_FAO'][userCountry][userCrop].max()*0.1))/1000), ((iFarmData['Yield_FAO'][userCountry2][userCrop2].max() * iFarmData['AreaH_FAO'][userCountry2][userCrop2].max())/1000 + ((iFarmData['Yield_FAO'][userCountry2][userCrop2].max()*0.1) * (iFarmData['AreaH_FAO'][userCountry2][userCrop2].max()*0.1))/1000))\n",
    "areaMax = iFarmData['AreaH_FAO'][userCountry][userCrop].max()\n",
    "areaMax1 = iFarmData['AreaH_FAO'][userCountry2][userCrop].max()\n",
    "Area = iFarmData['AreaH_FAO']\n",
    "Yield = iFarmData['Yield_FAO']\n",
    "NUE = iFarmData['NUE_3d']\n",
    "\n",
    "fig = plt.figure()\n",
    "fig.set_size_inches(18, 8)\n",
    "plt.xlim(0, xlimit)\n",
    "plt.ylim(0, 1)\n",
    "plt.autoscale(False)\n",
    "\n",
    "x,y,s, x2, y2, s2, x1, y1 = [], [], [], [], [], [], [], []\n",
    "trendX, trendY, trendX2, trendY2 = [], [], [], []\n",
    "dataX, dataY, dataX2, dataY2 = [], [], [], []\n",
    "x1.append(0)\n",
    "x1.append(max((iFarmData['Yield_FAO'][userCountry][userCrop].max() * iFarmData['AreaH_FAO'][userCountry][userCrop].max())/1000 + ((iFarmData['Yield_FAO'][userCountry][userCrop].max()*0.1) * (iFarmData['AreaH_FAO'][userCountry][userCrop].max()*0.1))/1000, (iFarmData['Yield_FAO'][userCountry2][userCrop2].max() * iFarmData['AreaH_FAO'][userCountry2][userCrop2].max())/1000 + ((iFarmData['Yield_FAO'][userCountry2][userCrop2].max()*0.1) * (iFarmData['AreaH_FAO'][userCountry2][userCrop2].max()*0.1))/1000))\n",
    "y1.append(0.7)\n",
    "y1.append(0.7)\n",
    "\n",
    "ColorList = []\n",
    "color = np.random.rand(3,)\n",
    "legend = [\"Target NUE\", country + \", \" + crop + \": Trendline\", country2 + \", \" + crop2 + \": Trendline\", country + \", \" + crop, country2 + \", \" + crop2]\n",
    "\n",
    "plt.plot(x1, y1, 'k:')\n",
    "plt.text(max(iFarmData['Yield_FAO'][userCountry][userCrop].max() + iFarmData['Yield_FAO'][userCountry][userCrop].max()*0.1, iFarmData['Yield_FAO'][userCountry2][userCrop].max() + iFarmData['Yield_FAO'][userCountry2][userCrop].max()*0.1)*0.01, 0.71, \"Target NUE\")\n",
    "\n",
    "plt.text((Yield[userCountry][userCrop][0] * Area[userCountry][userCrop][0])/1000, NUE[userCountry][userCrop][0] + NUE[userCountry][userCrop][0] * 0.05, \"1960\")\n",
    "plt.text((Yield[userCountry][userCrop][54] * Area[userCountry][userCrop][54])/1000, NUE[userCountry][userCrop][54] + NUE[userCountry][userCrop][54] * 0.05, \"2015\")\n",
    "\n",
    "plt.text((Yield[userCountry2][userCrop2][0] * Area[userCountry2][userCrop2][0])/1000, NUE[userCountry2][userCrop2][0] + NUE[userCountry2][userCrop2][0] * 0.05, \"1960\")\n",
    "plt.text((Yield[userCountry2][userCrop2][54] * Area[userCountry2][userCrop2][54])/1000, NUE[userCountry2][userCrop2][54] + NUE[userCountry2][userCrop2][54] * 0.05, \"2015\", c='gray')\n",
    "\n",
    "i = 0\n",
    "while i <= 54:\n",
    "    dataX.append((Yield[userCountry][userCrop][i] * Area[userCountry][userCrop][i])/1000)\n",
    "    dataY.append(NUE[userCountry][userCrop][i])\n",
    "    dataX2.append((Yield[userCountry2][userCrop2][i] * Area[userCountry2][userCrop2][i])/1000)\n",
    "    dataY2.append(NUE[userCountry2][userCrop2][i])\n",
    "    i = i + 9\n",
    "    \n",
    "#ax = fig.add_subplot(1,1,1)\n",
    "#plotlim = plt.xlim() + plt.ylim()  \n",
    "#ax.imshow([[0,0],[1,1]], cmap=plt.cm.Greens, interpolation='bicubic', extent=plotlim)  \n",
    "#plt.draw()  \n",
    "\n",
    "def animate(frame):\n",
    "    x.append((Yield[userCountry][userCrop][frame] * Area[userCountry][userCrop][frame])/1000)\n",
    "    y.append(NUE[userCountry][userCrop][frame])\n",
    "    s.append(Area[userCountry][userCrop][frame]/(areaMax)*250)\n",
    "    x2.append((Yield[userCountry2][userCrop2][frame] * Area[userCountry2][userCrop2][frame])/1000)\n",
    "    y2.append(NUE[userCountry2][userCrop2][frame])\n",
    "    s2.append(Area[userCountry2][userCrop2][frame]/(areaMax1)*250)\n",
    "    plt.ticklabel_format(useOffset=False, style='plain')\n",
    "    plt.title(\"Crop Yield, Nitrogen Use Efficiency, Land Used for Crop Growth (Shown by Bubble Size) | From 1960-2015\")\n",
    "    plt.xlabel(\"Crop Yield in thousands (1000) of kg\")\n",
    "    plt.ylabel(\"Nitrogen Use Efficiency (NUE)\")\n",
    "    plt.scatter(x, y, s, alpha=0.20, c='orange')\n",
    "    plt.scatter(x2, y2, s2, alpha=0.20, c='purple')\n",
    "    plt.legend(legend)\n",
    "\n",
    "anim = FuncAnimation(fig, animate, frames=60, interval=200)\n",
    "plt.plot(dataX, dataY, c='r')\n",
    "plt.plot(dataX2, dataY2, c='b')\n",
    "#anim.save(r'C:\\Users\\joshu\\Desktop\\AfterPresentationVisuals\\ChinaRiceJapanRice.gif', dpi=220)"
   ]
  },
  {
   "cell_type": "code",
   "execution_count": null,
   "id": "580e2fd9-dbf6-4b23-856f-de17a4cff9e7",
   "metadata": {},
   "outputs": [],
   "source": [
    "i = 0\n",
    "while i <= 54:\n",
    "    print(Yield[userCountry][userCrop][i])\n",
    "    i = i + 1"
   ]
  },
  {
   "cell_type": "code",
   "execution_count": 33,
   "id": "3bfffe46-52d2-465c-8fec-763c753add7d",
   "metadata": {},
   "outputs": [
    {
     "data": {
      "text/plain": [
       "7.927557099665047"
      ]
     },
     "execution_count": 33,
     "metadata": {},
     "output_type": "execute_result"
    }
   ],
   "source": [
    "(abs(NUE[userCountry2][userCrop][54] - NUE[userCountry2][userCrop][34]) / NUE[userCountry2][userCrop][34]) * 100.0"
   ]
  },
  {
   "cell_type": "code",
   "execution_count": 48,
   "id": "c3371bee",
   "metadata": {},
   "outputs": [
    {
     "data": {
      "text/plain": [
       "10.416974768011336"
      ]
     },
     "execution_count": 48,
     "metadata": {},
     "output_type": "execute_result"
    }
   ],
   "source": [
    "(abs(NUE[userCountry2][userCrop][54] - NUE[userCountry2][userCrop][39]) / NUE[userCountry2][userCrop][39]) * 100.0"
   ]
  },
  {
   "cell_type": "code",
   "execution_count": 49,
   "id": "b26ed31e",
   "metadata": {},
   "outputs": [
    {
     "data": {
      "text/plain": [
       "11.437000056731152"
      ]
     },
     "execution_count": 49,
     "metadata": {},
     "output_type": "execute_result"
    }
   ],
   "source": [
    "(abs(Yield[userCountry2][userCrop][54] - Yield[userCountry2][userCrop][44]) / Yield[userCountry2][userCrop][44]) * 100.0"
   ]
  },
  {
   "cell_type": "code",
   "execution_count": 50,
   "id": "9fdf398e",
   "metadata": {},
   "outputs": [
    {
     "data": {
      "text/plain": [
       "44.60895886760337"
      ]
     },
     "execution_count": 50,
     "metadata": {},
     "output_type": "execute_result"
    }
   ],
   "source": [
    "(abs(Area[userCountry2][userCrop][54] - Area[userCountry2][userCrop][44]) / Area[userCountry2][userCrop][44]) * 100.0"
   ]
  },
  {
   "cell_type": "code",
   "execution_count": 22,
   "id": "04a83190",
   "metadata": {},
   "outputs": [
    {
     "name": "stdout",
     "output_type": "stream",
     "text": [
      "41\n"
     ]
    }
   ],
   "source": [
    "print(CropNames[CropNames[0] == 'Coffee; green'].index[0])"
   ]
  },
  {
   "cell_type": "code",
   "execution_count": null,
   "id": "f115ad5b",
   "metadata": {},
   "outputs": [],
   "source": []
  }
 ],
 "metadata": {
  "kernelspec": {
   "display_name": "Python 3 (ipykernel)",
   "language": "python",
   "name": "python3"
  },
  "language_info": {
   "codemirror_mode": {
    "name": "ipython",
    "version": 3
   },
   "file_extension": ".py",
   "mimetype": "text/x-python",
   "name": "python",
   "nbconvert_exporter": "python",
   "pygments_lexer": "ipython3",
   "version": "3.9.7"
  }
 },
 "nbformat": 4,
 "nbformat_minor": 5
}
