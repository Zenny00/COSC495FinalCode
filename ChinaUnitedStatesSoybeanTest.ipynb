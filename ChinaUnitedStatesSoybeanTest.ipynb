{
 "cells": [
  {
   "cell_type": "code",
   "execution_count": 1,
   "id": "a9a8a882",
   "metadata": {},
   "outputs": [],
   "source": [
    "#Joshua Comfort\n",
    "#Date: 4-23-2022\n",
    "\n",
    "#In our outline each country is plotted using its yield (measured in kg/km)\n",
    "#graphed against its NUE (measured as a percentage) with land used farming for each crop (measured in hectares) \n",
    "#corresponding to the size of the bubbles. Each crop can be viewed with its NUE for each country, \n",
    "#the amount grown, and the amount of land used in the process.\n",
    "import scipy.io\n",
    "from matplotlib import pyplot as plt\n",
    "import pandas as pd\n",
    "import seaborn as sb\n",
    "import matplotlib.animation as ani\n",
    "from matplotlib.animation import FuncAnimation\n",
    "iFarmData = scipy.io.loadmat('iFarmData(2015)_1_28_2019.mat')\n",
    "from IPython import display\n",
    "import numpy as np"
   ]
  },
  {
   "cell_type": "code",
   "execution_count": 2,
   "id": "fe0113a1",
   "metadata": {},
   "outputs": [
    {
     "name": "stdout",
     "output_type": "stream",
     "text": [
      "Please enter a name of a country: China\n",
      "Please enter a name of a country: United States of America\n",
      "Please enter the name of a crop: Soybeans\n"
     ]
    }
   ],
   "source": [
    "#Get user input\n",
    "country = input(\"Please enter a name of a country: \")\n",
    "country2 = input(\"Please enter a name of a country: \")\n",
    "crop = input(\"Please enter the name of a crop: \")"
   ]
  },
  {
   "cell_type": "code",
   "execution_count": 8,
   "id": "af7c12ad",
   "metadata": {},
   "outputs": [
    {
     "name": "stdout",
     "output_type": "stream",
     "text": [
      "           0\n",
      "0   0.702730\n",
      "1   0.710045\n",
      "2   0.703506\n",
      "3   0.704768\n",
      "4   0.657152\n",
      "..       ...\n",
      "85  1.965091\n",
      "86  2.098479\n",
      "87  2.197923\n",
      "88  2.342743\n",
      "89  2.505288\n",
      "\n",
      "[90 rows x 1 columns]\n",
      "0.549628080183152\n",
      "181130.0\n"
     ]
    }
   ],
   "source": [
    "Years = pd.DataFrame(iFarmData['Yr']).T\n",
    "Countries = pd.DataFrame(iFarmData['FAOSTAT_CoName_FAO'])\n",
    "CropNames = pd.DataFrame(iFarmData['FAOSTAT_CrName_FAO'])\n",
    "#while count < int(numCountries):\n",
    "#    countryList.append(input(\"Please input the name of a country: \"))\n",
    "#    count = count + 1\n",
    "\n",
    "userCountry = Countries[Countries[0] == country].index[0]\n",
    "userCountry2 = Countries[Countries[0] == country2].index[0]\n",
    "userCrop = CropNames[CropNames[0] == crop].index[0]\n",
    "#Trade 1986-2015\n",
    "%matplotlib qt\n",
    "i = 0\n",
    "Area = iFarmData['AreaH_FAO']\n",
    "Yield = iFarmData['Yield_FAO']\n",
    "NUE = iFarmData['NUE_3d']\n",
    "RICE_NUE = []\n",
    "RICE_YIELD = []\n",
    "RICE_AREA = []\n",
    "\n",
    "while i < 55:\n",
    "    RICE_NUE.append(NUE[userCountry][userCrop][i])\n",
    "    RICE_YIELD.append(Yield[userCountry][userCrop][i])\n",
    "    RICE_AREA.append(Area[userCountry][userCrop][i])\n",
    "    i = i + 1\n",
    "    \n",
    "#i = 55\n",
    "#while i < 90:\n",
    "#    RICE_NUE.append(RICE_NUE[i-1] - (np.random.ranf() % 0.020) + RICE_NUE[i-1] * 0.04)\n",
    "#    RICE_YIELD.append(RICE_YIELD[i-1] + (3935 * ((np.random.ranf() + 0.7) % 1)))\n",
    "#    RICE_AREA.append(RICE_AREA[i-1] + (1967 * ((np.random.ranf() + 0.7) % 1)))\n",
    "#    i = i + 1\n",
    "\n",
    "i = 55\n",
    "while i < 90:\n",
    "    RICE_NUE.append(RICE_NUE[i-1] - (((np.random.ranf() % 0.048))) + (RICE_NUE[i-1] * 0.07))\n",
    "    RICE_YIELD.append(RICE_YIELD[i-1] + (7200 * ((np.random.ranf() + 0.7) % 1)))\n",
    "    RICE_AREA.append(RICE_AREA[i-1] + (16800 * ((np.random.ranf() + 0.7) % 1)))\n",
    "    i = i + 1\n",
    "    \n",
    "NUERice = pd.DataFrame(RICE_NUE)\n",
    "YieldRice = pd.DataFrame(RICE_YIELD)\n",
    "AreaRice = pd.DataFrame(RICE_AREA)\n",
    "\n",
    "print(NUERice)\n",
    "print(NUERice[0][54])\n",
    "print(YieldRice[0][54])\n",
    "#14,838,329,825\n",
    "#92,114,042,458"
   ]
  },
  {
   "cell_type": "code",
   "execution_count": 19,
   "id": "d8a567b4",
   "metadata": {},
   "outputs": [
    {
     "name": "stdout",
     "output_type": "stream",
     "text": [
      "29676659650.0\n",
      "106952372283.0\n"
     ]
    }
   ],
   "source": [
    "#Display Data\n",
    "print(iFarmData['netImTrade'][userCrop][29][userCountry][userCountry2])\n",
    "print(iFarmData['Yield_FAO'][userCountry2][userCrop][54]  * iFarmData['AreaH_FAO'][userCountry2][userCrop][54])"
   ]
  },
  {
   "cell_type": "code",
   "execution_count": 18,
   "id": "c8067fcf",
   "metadata": {},
   "outputs": [
    {
     "name": "stderr",
     "output_type": "stream",
     "text": [
      "MovieWriter ffmpeg unavailable; using Pillow instead.\n"
     ]
    }
   ],
   "source": [
    "#Create Graph\n",
    "xlimit = max(RICE_YIELD) + max(RICE_YIELD)*0.1\n",
    "areaMax = max(RICE_AREA)\n",
    "\n",
    "fig = plt.figure()\n",
    "fig.set_size_inches(20, 8)\n",
    "plt.xlim(0, xlimit)\n",
    "plt.ylim(0, 1)\n",
    "plt.autoscale(False)\n",
    "\n",
    "x,y,s, x1, y1 = [], [], [], [], []\n",
    "x1.append(0)\n",
    "x1.append(max(RICE_YIELD) + max(RICE_YIELD)*0.1)\n",
    "y1.append(0.7)\n",
    "y1.append(0.7)\n",
    "\n",
    "ColorList = []\n",
    "color = np.random.rand(3,)\n",
    "legend = [\"Target NUE\", country + \", \" + crop]\n",
    "\n",
    "plt.plot(x1, y1, 'k:')\n",
    "plt.text(1000, 0.71, \"Target NUE\")\n",
    "\n",
    "plt.text(YieldRice[0][0], NUERice[0][0] + NUERice[0][0] * 0.05, \"1960\")\n",
    "plt.text(YieldRice[0][54], NUERice[0][54] + NUERice[0][54] * 0.05, \"2015\")\n",
    "plt.text(YieldRice[0][89], NUERice[0][89] + NUERice[0][89] * 0.05, \"2050\")\n",
    "\n",
    "#plt.text(Yield[userCountry][userCrop][0], NUE[userCountry][userCrop][0] + NUE[userCountry][userCrop][0] * 0.05, \"1960\")\n",
    "#plt.text(Yield[userCountry][userCrop][54], NUE[userCountry][userCrop][54] + NUE[userCountry][userCrop][54] * 0.05, \"2015\")\n",
    "#plt.text(Yield[userCountry][userCrop1][0], NUE[userCountry][userCrop1][0] + NUE[userCountry][userCrop1][0] * 0.05, \"1960\")\n",
    "#plt.text(Yield[userCountry][userCrop1][54], NUE[userCountry][userCrop1][54] + NUE[userCountry][userCrop1][54] * 0.05, \"2015\")\n",
    "\n",
    "#i = 0\n",
    "#while i <= 54:\n",
    "#    dataX.append(Yield[userCountry][userCrop][i])\n",
    "#    dataY.append(NUE[userCountry][userCrop][i])\n",
    "#    dataX2.append(Yield[userCountry][userCrop1][i])\n",
    "#    dataY2.append(NUE[userCountry][userCrop1][i])\n",
    "#    i = i + 9\n",
    "    \n",
    "#ax = fig.add_subplot(1,1,1)\n",
    "#plotlim = plt.xlim() + plt.ylim()  \n",
    "#ax.imshow([[0,0],[1,1]], cmap=plt.cm.Greens, interpolation='bicubic', extent=plotlim)  \n",
    "#plt.draw()  \n",
    "\n",
    "def animate(frame):\n",
    "    x.append(YieldRice[0][frame])\n",
    "    y.append(NUERice[0][frame])\n",
    "    s.append(AreaRice[0][frame]/(areaMax)*250)\n",
    "    plt.ticklabel_format(useOffset=False, style='plain')\n",
    "    plt.title(\"Crop Yield, Nitrogen Use Efficiency, Land Used for Crop Growth (Shown by Bubble Size) | From 1960-2050 (Projection)\")\n",
    "    plt.xlabel(\"Crop Yield in kg\")\n",
    "    plt.ylabel(\"Nitrogen Use Efficiency (NUE) annual +-% after 2015\")\n",
    "    plt.scatter(x, y, s, alpha=0.10, c='g')\n",
    "    plt.legend(legend)\n",
    "\n",
    "anim = FuncAnimation(fig, animate, frames=90, interval=200)\n",
    "#plt.plot(dataX, dataY, c='tab:green')\n",
    "#plt.plot(dataX2, dataY2, c='yellow')\n",
    "#anim.save(r'C:\\Users\\joshu\\Desktop\\NewVisuals\\MaizeNUE7.5PercentImprovement30PercentIncrease.gif', dpi=220)"
   ]
  },
  {
   "cell_type": "code",
   "execution_count": null,
   "id": "82cc69bc",
   "metadata": {},
   "outputs": [],
   "source": []
  }
 ],
 "metadata": {
  "kernelspec": {
   "display_name": "Python 3 (ipykernel)",
   "language": "python",
   "name": "python3"
  },
  "language_info": {
   "codemirror_mode": {
    "name": "ipython",
    "version": 3
   },
   "file_extension": ".py",
   "mimetype": "text/x-python",
   "name": "python",
   "nbconvert_exporter": "python",
   "pygments_lexer": "ipython3",
   "version": "3.9.7"
  }
 },
 "nbformat": 4,
 "nbformat_minor": 5
}
